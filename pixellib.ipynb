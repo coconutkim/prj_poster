{
 "cells": [
  {
   "cell_type": "code",
   "execution_count": 38,
   "metadata": {},
   "outputs": [
    {
     "ename": "NameError",
     "evalue": "name 'BatchNormalization' is not defined",
     "output_type": "error",
     "traceback": [
      "\u001b[0;31m---------------------------------------------------------------------------\u001b[0m",
      "\u001b[0;31mNameError\u001b[0m                                 Traceback (most recent call last)",
      "Cell \u001b[0;32mIn[38], line 6\u001b[0m\n\u001b[1;32m      3\u001b[0m \u001b[38;5;66;03m# from tensorflow.keras.layers import BatchNormalization\u001b[39;00m\n\u001b[1;32m      4\u001b[0m \u001b[38;5;28;01mfrom\u001b[39;00m \u001b[38;5;21;01mtensorflow\u001b[39;00m\u001b[38;5;21;01m.\u001b[39;00m\u001b[38;5;21;01mkeras\u001b[39;00m\u001b[38;5;21;01m.\u001b[39;00m\u001b[38;5;21;01mlayers\u001b[39;00m \u001b[38;5;28;01mimport\u001b[39;00m BatchNormalization, Add, Dropout, Conv2D, DepthwiseConv2D  \u001b[38;5;66;03m# BatchNormalization 포함\u001b[39;00m\n\u001b[0;32m----> 6\u001b[0m seg\u001b[38;5;241m=\u001b[39m\u001b[43msemantic_segmentation\u001b[49m\u001b[43m(\u001b[49m\u001b[43m)\u001b[49m\n\u001b[1;32m      7\u001b[0m seg\u001b[38;5;241m.\u001b[39mload_ade20k_model(\u001b[38;5;124m'\u001b[39m\u001b[38;5;124m/home/acy/venv/source/prj_poster/deeplabv3_xception65_ade20k.h5\u001b[39m\u001b[38;5;124m'\u001b[39m)\n\u001b[1;32m      9\u001b[0m img_fname\u001b[38;5;241m=\u001b[39m\u001b[38;5;124m'\u001b[39m\u001b[38;5;124m/home/acy/venv/source/prj_poster/busy_street.jpg\u001b[39m\u001b[38;5;124m'\u001b[39m\n",
      "File \u001b[0;32m~/venv/lib/python3.12/site-packages/pixellib/semantic/__init__.py:26\u001b[0m, in \u001b[0;36msemantic_segmentation.__init__\u001b[0;34m(self, model_type)\u001b[0m\n\u001b[1;32m     23\u001b[0m \u001b[38;5;28mself\u001b[39m\u001b[38;5;241m.\u001b[39mmodel_type \u001b[38;5;241m=\u001b[39m model_type\n\u001b[1;32m     24\u001b[0m model_file \u001b[38;5;241m=\u001b[39m model_type\n\u001b[0;32m---> 26\u001b[0m \u001b[38;5;28mself\u001b[39m\u001b[38;5;241m.\u001b[39mmodel \u001b[38;5;241m=\u001b[39m \u001b[43mDeeplab_xcep_pascal\u001b[49m\u001b[43m(\u001b[49m\u001b[43m)\u001b[49m\n\u001b[1;32m     28\u001b[0m \u001b[38;5;28mself\u001b[39m\u001b[38;5;241m.\u001b[39mmodel2 \u001b[38;5;241m=\u001b[39m Deeplab_xcep_ade20k()\n",
      "File \u001b[0;32m~/venv/lib/python3.12/site-packages/pixellib/semantic/deeplab.py:133\u001b[0m, in \u001b[0;36mDeeplab_xcep_pascal\u001b[0;34m(weights, input_tensor, input_shape, num_classes, backbone, OS, model_path, activation)\u001b[0m\n\u001b[1;32m    129\u001b[0m atrous_rates \u001b[38;5;241m=\u001b[39m (\u001b[38;5;241m12\u001b[39m, \u001b[38;5;241m24\u001b[39m, \u001b[38;5;241m36\u001b[39m)\n\u001b[1;32m    131\u001b[0m x \u001b[38;5;241m=\u001b[39m Conv2D(\u001b[38;5;241m32\u001b[39m, (\u001b[38;5;241m3\u001b[39m, \u001b[38;5;241m3\u001b[39m), strides\u001b[38;5;241m=\u001b[39m(\u001b[38;5;241m2\u001b[39m, \u001b[38;5;241m2\u001b[39m),\n\u001b[1;32m    132\u001b[0m            name\u001b[38;5;241m=\u001b[39m\u001b[38;5;124m'\u001b[39m\u001b[38;5;124mentry_flow_conv1_1\u001b[39m\u001b[38;5;124m'\u001b[39m, use_bias\u001b[38;5;241m=\u001b[39m\u001b[38;5;28;01mFalse\u001b[39;00m, padding\u001b[38;5;241m=\u001b[39m\u001b[38;5;124m'\u001b[39m\u001b[38;5;124msame\u001b[39m\u001b[38;5;124m'\u001b[39m)(img_input)\n\u001b[0;32m--> 133\u001b[0m x \u001b[38;5;241m=\u001b[39m \u001b[43mBatchNormalization\u001b[49m(name\u001b[38;5;241m=\u001b[39m\u001b[38;5;124m'\u001b[39m\u001b[38;5;124mentry_flow_conv1_1_BN\u001b[39m\u001b[38;5;124m'\u001b[39m)(x)\n\u001b[1;32m    134\u001b[0m x \u001b[38;5;241m=\u001b[39m Activation(tf\u001b[38;5;241m.\u001b[39mnn\u001b[38;5;241m.\u001b[39mrelu)(x)\n\u001b[1;32m    136\u001b[0m x \u001b[38;5;241m=\u001b[39m _conv2d_same(x, \u001b[38;5;241m64\u001b[39m, \u001b[38;5;124m'\u001b[39m\u001b[38;5;124mentry_flow_conv1_2\u001b[39m\u001b[38;5;124m'\u001b[39m, kernel_size\u001b[38;5;241m=\u001b[39m\u001b[38;5;241m3\u001b[39m, stride\u001b[38;5;241m=\u001b[39m\u001b[38;5;241m1\u001b[39m)\n",
      "\u001b[0;31mNameError\u001b[0m: name 'BatchNormalization' is not defined"
     ]
    }
   ],
   "source": [
    "from pixellib.semantic import semantic_segmentation\n",
    "import cv2 as cv\n",
    "# from tensorflow.keras.layers import BatchNormalization\n",
    "from tensorflow.keras.layers import BatchNormalization, Add, Dropout, Conv2D, DepthwiseConv2D  # BatchNormalization 포함\n",
    "\n",
    "seg=semantic_segmentation()\n",
    "seg.load_ade20k_model('/home/acy/venv/source/prj_poster/deeplabv3_xception65_ade20k.h5')\n",
    "\n",
    "img_fname='/home/acy/venv/source/prj_poster/busy_street.jpg'\n",
    "seg.segmentAsAde20k(img_fname,output_image_name='/home/acy/venv/source/prj_poster/image_new.jpg')\n",
    "info1,img_segmented1=seg.segmentAsAde20k(img_fname)\n",
    "info2,img_segmented2=seg.segmentAsAde20k(img_fname,overlay=True)\n",
    "\n",
    "cv.imshow('Image original',cv.imread(img_fname))\n",
    "cv.imshow('Image segmention',img_segmented1)\n",
    "cv.imshow('Image segmention overlayed',img_segmented2)\n",
    "\n",
    "cv.waitKey(0)\n",
    "cv.destroyAllWindows()\n",
    "\n",
    "# ImportError: cannot import name 'BatchNormalization' from 'tensorflow.python.keras.layers' (/home/acy/venv/lib/python3.12/site-packages/tensorflow/python/keras/layers/__init__.py)\n",
    "# PixelLib supports tensorflow's version (2.0 - 2.4.1)"
   ]
  },
  {
   "cell_type": "code",
   "execution_count": 39,
   "metadata": {},
   "outputs": [
    {
     "ename": "NameError",
     "evalue": "name 'BatchNormalization' is not defined",
     "output_type": "error",
     "traceback": [
      "\u001b[0;31m---------------------------------------------------------------------------\u001b[0m",
      "\u001b[0;31mNameError\u001b[0m                                 Traceback (most recent call last)",
      "Cell \u001b[0;32mIn[39], line 7\u001b[0m\n\u001b[1;32m      4\u001b[0m \u001b[38;5;28;01mimport\u001b[39;00m \u001b[38;5;21;01mmatplotlib\u001b[39;00m\u001b[38;5;21;01m.\u001b[39;00m\u001b[38;5;21;01mpyplot\u001b[39;00m \u001b[38;5;28;01mas\u001b[39;00m \u001b[38;5;21;01mplt\u001b[39;00m\n\u001b[1;32m      6\u001b[0m \u001b[38;5;66;03m# Semantic segmentation 객체 생성\u001b[39;00m\n\u001b[0;32m----> 7\u001b[0m seg \u001b[38;5;241m=\u001b[39m \u001b[43msemantic_segmentation\u001b[49m\u001b[43m(\u001b[49m\u001b[43m)\u001b[49m\n\u001b[1;32m      9\u001b[0m \u001b[38;5;66;03m# 모델 로드 (사전에 다운로드한 모델 파일의 경로를 입력)\u001b[39;00m\n\u001b[1;32m     10\u001b[0m \u001b[38;5;66;03m# 'deeplabv3_xception65_ade20k.h5' 모델 파일은 PixelLib GitHub 또는 공식 웹사이트에서 다운로드할 수 있습니다.\u001b[39;00m\n\u001b[1;32m     11\u001b[0m seg\u001b[38;5;241m.\u001b[39mload_ade20k_model(\u001b[38;5;124m'\u001b[39m\u001b[38;5;124m/home/acy/venv/source/prj_poster/deeplabv3_xception65_ade20k.h5\u001b[39m\u001b[38;5;124m'\u001b[39m)\n",
      "File \u001b[0;32m~/venv/lib/python3.12/site-packages/pixellib/semantic/__init__.py:26\u001b[0m, in \u001b[0;36msemantic_segmentation.__init__\u001b[0;34m(self, model_type)\u001b[0m\n\u001b[1;32m     23\u001b[0m \u001b[38;5;28mself\u001b[39m\u001b[38;5;241m.\u001b[39mmodel_type \u001b[38;5;241m=\u001b[39m model_type\n\u001b[1;32m     24\u001b[0m model_file \u001b[38;5;241m=\u001b[39m model_type\n\u001b[0;32m---> 26\u001b[0m \u001b[38;5;28mself\u001b[39m\u001b[38;5;241m.\u001b[39mmodel \u001b[38;5;241m=\u001b[39m \u001b[43mDeeplab_xcep_pascal\u001b[49m\u001b[43m(\u001b[49m\u001b[43m)\u001b[49m\n\u001b[1;32m     28\u001b[0m \u001b[38;5;28mself\u001b[39m\u001b[38;5;241m.\u001b[39mmodel2 \u001b[38;5;241m=\u001b[39m Deeplab_xcep_ade20k()\n",
      "File \u001b[0;32m~/venv/lib/python3.12/site-packages/pixellib/semantic/deeplab.py:133\u001b[0m, in \u001b[0;36mDeeplab_xcep_pascal\u001b[0;34m(weights, input_tensor, input_shape, num_classes, backbone, OS, model_path, activation)\u001b[0m\n\u001b[1;32m    129\u001b[0m atrous_rates \u001b[38;5;241m=\u001b[39m (\u001b[38;5;241m12\u001b[39m, \u001b[38;5;241m24\u001b[39m, \u001b[38;5;241m36\u001b[39m)\n\u001b[1;32m    131\u001b[0m x \u001b[38;5;241m=\u001b[39m Conv2D(\u001b[38;5;241m32\u001b[39m, (\u001b[38;5;241m3\u001b[39m, \u001b[38;5;241m3\u001b[39m), strides\u001b[38;5;241m=\u001b[39m(\u001b[38;5;241m2\u001b[39m, \u001b[38;5;241m2\u001b[39m),\n\u001b[1;32m    132\u001b[0m            name\u001b[38;5;241m=\u001b[39m\u001b[38;5;124m'\u001b[39m\u001b[38;5;124mentry_flow_conv1_1\u001b[39m\u001b[38;5;124m'\u001b[39m, use_bias\u001b[38;5;241m=\u001b[39m\u001b[38;5;28;01mFalse\u001b[39;00m, padding\u001b[38;5;241m=\u001b[39m\u001b[38;5;124m'\u001b[39m\u001b[38;5;124msame\u001b[39m\u001b[38;5;124m'\u001b[39m)(img_input)\n\u001b[0;32m--> 133\u001b[0m x \u001b[38;5;241m=\u001b[39m \u001b[43mBatchNormalization\u001b[49m(name\u001b[38;5;241m=\u001b[39m\u001b[38;5;124m'\u001b[39m\u001b[38;5;124mentry_flow_conv1_1_BN\u001b[39m\u001b[38;5;124m'\u001b[39m)(x)\n\u001b[1;32m    134\u001b[0m x \u001b[38;5;241m=\u001b[39m Activation(tf\u001b[38;5;241m.\u001b[39mnn\u001b[38;5;241m.\u001b[39mrelu)(x)\n\u001b[1;32m    136\u001b[0m x \u001b[38;5;241m=\u001b[39m _conv2d_same(x, \u001b[38;5;241m64\u001b[39m, \u001b[38;5;124m'\u001b[39m\u001b[38;5;124mentry_flow_conv1_2\u001b[39m\u001b[38;5;124m'\u001b[39m, kernel_size\u001b[38;5;241m=\u001b[39m\u001b[38;5;241m3\u001b[39m, stride\u001b[38;5;241m=\u001b[39m\u001b[38;5;241m1\u001b[39m)\n",
      "\u001b[0;31mNameError\u001b[0m: name 'BatchNormalization' is not defined"
     ]
    }
   ],
   "source": [
    "import pixellib\n",
    "from pixellib.semantic import semantic_segmentation\n",
    "import cv2\n",
    "import matplotlib.pyplot as plt\n",
    "\n",
    "# Semantic segmentation 객체 생성\n",
    "seg = semantic_segmentation()\n",
    "\n",
    "# 모델 로드 (사전에 다운로드한 모델 파일의 경로를 입력)\n",
    "# 'deeplabv3_xception65_ade20k.h5' 모델 파일은 PixelLib GitHub 또는 공식 웹사이트에서 다운로드할 수 있습니다.\n",
    "seg.load_ade20k_model('/home/acy/venv/source/prj_poster/deeplabv3_xception65_ade20k.h5')\n",
    "\n",
    "# 이미지 파일 경로 설정\n",
    "input_image_path = '/home/acy/venv/source/prj_poster/busy_street.jpg'  # 처리할 이미지 파일 경로\n",
    "output_image_path = 'segmented_image.jpg'     # 저장할 세그멘테이션 결과 이미지 경로\n",
    "\n",
    "# 세그멘테이션 수행\n",
    "seg.segmentAsAde20K(input_image_path, output_image_path)\n",
    "\n",
    "# 결과 이미지 로드 및 시각화\n",
    "segmented_image = cv2.imread(output_image_path)\n",
    "\n",
    "# 결과 이미지를 matplotlib로 시각화\n",
    "plt.imshow(cv2.cvtColor(segmented_image, cv2.COLOR_BGR2RGB))\n",
    "plt.axis('off')  # 축 숨기기\n",
    "plt.show()\n"
   ]
  },
  {
   "cell_type": "code",
   "execution_count": 40,
   "metadata": {},
   "outputs": [
    {
     "ename": "NameError",
     "evalue": "name 'BatchNormalization' is not defined",
     "output_type": "error",
     "traceback": [
      "\u001b[0;31m---------------------------------------------------------------------------\u001b[0m",
      "\u001b[0;31mNameError\u001b[0m                                 Traceback (most recent call last)",
      "Cell \u001b[0;32mIn[40], line 8\u001b[0m\n\u001b[1;32m      5\u001b[0m \u001b[38;5;28;01mimport\u001b[39;00m \u001b[38;5;21;01mmatplotlib\u001b[39;00m\u001b[38;5;21;01m.\u001b[39;00m\u001b[38;5;21;01mpyplot\u001b[39;00m \u001b[38;5;28;01mas\u001b[39;00m \u001b[38;5;21;01mplt\u001b[39;00m\n\u001b[1;32m      7\u001b[0m \u001b[38;5;66;03m# Semantic segmentation 객체 생성\u001b[39;00m\n\u001b[0;32m----> 8\u001b[0m seg \u001b[38;5;241m=\u001b[39m \u001b[43msemantic_segmentation\u001b[49m\u001b[43m(\u001b[49m\u001b[43m)\u001b[49m\n\u001b[1;32m      9\u001b[0m \u001b[38;5;66;03m# 모델 로드 (사전에 다운로드한 모델 파일의 경로를 입력)\u001b[39;00m\n\u001b[1;32m     10\u001b[0m seg\u001b[38;5;241m.\u001b[39mload_ade20k_model(\u001b[38;5;124m'\u001b[39m\u001b[38;5;124m/home/acy/venv/source/prj_poster/deeplabv3_xception65_ade20k.h5\u001b[39m\u001b[38;5;124m'\u001b[39m)\n",
      "File \u001b[0;32m~/venv/lib/python3.12/site-packages/pixellib/semantic/__init__.py:26\u001b[0m, in \u001b[0;36msemantic_segmentation.__init__\u001b[0;34m(self, model_type)\u001b[0m\n\u001b[1;32m     23\u001b[0m \u001b[38;5;28mself\u001b[39m\u001b[38;5;241m.\u001b[39mmodel_type \u001b[38;5;241m=\u001b[39m model_type\n\u001b[1;32m     24\u001b[0m model_file \u001b[38;5;241m=\u001b[39m model_type\n\u001b[0;32m---> 26\u001b[0m \u001b[38;5;28mself\u001b[39m\u001b[38;5;241m.\u001b[39mmodel \u001b[38;5;241m=\u001b[39m \u001b[43mDeeplab_xcep_pascal\u001b[49m\u001b[43m(\u001b[49m\u001b[43m)\u001b[49m\n\u001b[1;32m     28\u001b[0m \u001b[38;5;28mself\u001b[39m\u001b[38;5;241m.\u001b[39mmodel2 \u001b[38;5;241m=\u001b[39m Deeplab_xcep_ade20k()\n",
      "File \u001b[0;32m~/venv/lib/python3.12/site-packages/pixellib/semantic/deeplab.py:133\u001b[0m, in \u001b[0;36mDeeplab_xcep_pascal\u001b[0;34m(weights, input_tensor, input_shape, num_classes, backbone, OS, model_path, activation)\u001b[0m\n\u001b[1;32m    129\u001b[0m atrous_rates \u001b[38;5;241m=\u001b[39m (\u001b[38;5;241m12\u001b[39m, \u001b[38;5;241m24\u001b[39m, \u001b[38;5;241m36\u001b[39m)\n\u001b[1;32m    131\u001b[0m x \u001b[38;5;241m=\u001b[39m Conv2D(\u001b[38;5;241m32\u001b[39m, (\u001b[38;5;241m3\u001b[39m, \u001b[38;5;241m3\u001b[39m), strides\u001b[38;5;241m=\u001b[39m(\u001b[38;5;241m2\u001b[39m, \u001b[38;5;241m2\u001b[39m),\n\u001b[1;32m    132\u001b[0m            name\u001b[38;5;241m=\u001b[39m\u001b[38;5;124m'\u001b[39m\u001b[38;5;124mentry_flow_conv1_1\u001b[39m\u001b[38;5;124m'\u001b[39m, use_bias\u001b[38;5;241m=\u001b[39m\u001b[38;5;28;01mFalse\u001b[39;00m, padding\u001b[38;5;241m=\u001b[39m\u001b[38;5;124m'\u001b[39m\u001b[38;5;124msame\u001b[39m\u001b[38;5;124m'\u001b[39m)(img_input)\n\u001b[0;32m--> 133\u001b[0m x \u001b[38;5;241m=\u001b[39m \u001b[43mBatchNormalization\u001b[49m(name\u001b[38;5;241m=\u001b[39m\u001b[38;5;124m'\u001b[39m\u001b[38;5;124mentry_flow_conv1_1_BN\u001b[39m\u001b[38;5;124m'\u001b[39m)(x)\n\u001b[1;32m    134\u001b[0m x \u001b[38;5;241m=\u001b[39m Activation(tf\u001b[38;5;241m.\u001b[39mnn\u001b[38;5;241m.\u001b[39mrelu)(x)\n\u001b[1;32m    136\u001b[0m x \u001b[38;5;241m=\u001b[39m _conv2d_same(x, \u001b[38;5;241m64\u001b[39m, \u001b[38;5;124m'\u001b[39m\u001b[38;5;124mentry_flow_conv1_2\u001b[39m\u001b[38;5;124m'\u001b[39m, kernel_size\u001b[38;5;241m=\u001b[39m\u001b[38;5;241m3\u001b[39m, stride\u001b[38;5;241m=\u001b[39m\u001b[38;5;241m1\u001b[39m)\n",
      "\u001b[0;31mNameError\u001b[0m: name 'BatchNormalization' is not defined"
     ]
    }
   ],
   "source": [
    "import tensorflow as tf\n",
    "from tensorflow.keras.layers import BatchNormalization, Conv2D, Activation  # BatchNormalization 포함\n",
    "from pixellib.semantic import semantic_segmentation\n",
    "import cv2 as cv\n",
    "import matplotlib.pyplot as plt\n",
    "\n",
    "# Semantic segmentation 객체 생성\n",
    "seg = semantic_segmentation()\n",
    "# 모델 로드 (사전에 다운로드한 모델 파일의 경로를 입력)\n",
    "seg.load_ade20k_model('/home/acy/venv/source/prj_poster/deeplabv3_xception65_ade20k.h5')\n",
    "\n",
    "# 이미지 로드\n",
    "img_fname = '/home/acy/venv/source/prj_poster/busy_street.jpg'\n",
    "output_fname = '/home/acy/venv/source/prj_poster/segmented_image.jpg'\n",
    "\n",
    "# 세그먼트 이미지 생성\n",
    "seg.segmentAsAde20k(img_fname, output_fname)\n",
    "\n",
    "# 결과 이미지 표시\n",
    "result = cv.imread(output_fname)\n",
    "plt.imshow(cv.cvtColor(result, cv.COLOR_BGR2RGB))\n",
    "plt.axis('off')\n",
    "plt.show()\n"
   ]
  },
  {
   "cell_type": "code",
   "execution_count": 42,
   "metadata": {},
   "outputs": [
    {
     "name": "stdout",
     "output_type": "stream",
     "text": [
      "10.4.0\n"
     ]
    },
    {
     "ename": "AttributeError",
     "evalue": "module 'PIL.Image' has no attribute 'LINEAR'",
     "output_type": "error",
     "traceback": [
      "\u001b[0;31m---------------------------------------------------------------------------\u001b[0m",
      "\u001b[0;31mAttributeError\u001b[0m                            Traceback (most recent call last)",
      "Cell \u001b[0;32mIn[42], line 5\u001b[0m\n\u001b[1;32m      2\u001b[0m \u001b[38;5;28;01mimport\u001b[39;00m \u001b[38;5;21;01mPIL\u001b[39;00m\n\u001b[1;32m      3\u001b[0m \u001b[38;5;28mprint\u001b[39m(PIL\u001b[38;5;241m.\u001b[39m__version__)\n\u001b[0;32m----> 5\u001b[0m \u001b[38;5;28;01mfrom\u001b[39;00m \u001b[38;5;21;01mpixellib\u001b[39;00m\u001b[38;5;21;01m.\u001b[39;00m\u001b[38;5;21;01mtorchbackend\u001b[39;00m\u001b[38;5;21;01m.\u001b[39;00m\u001b[38;5;21;01minstance\u001b[39;00m \u001b[38;5;28;01mimport\u001b[39;00m instanceSegmentation\n\u001b[1;32m      7\u001b[0m ins \u001b[38;5;241m=\u001b[39m instanceSegmentation()\n\u001b[1;32m      8\u001b[0m ins\u001b[38;5;241m.\u001b[39mload_model(\u001b[38;5;124m\"\u001b[39m\u001b[38;5;124mpointrend_resnet50.pkl\u001b[39m\u001b[38;5;124m\"\u001b[39m)\n",
      "File \u001b[0;32m~/venv/lib/python3.12/site-packages/pixellib/torchbackend/instance/__init__.py:10\u001b[0m\n\u001b[1;32m      8\u001b[0m \u001b[38;5;28;01mimport\u001b[39;00m \u001b[38;5;21;01msys\u001b[39;00m\n\u001b[1;32m      9\u001b[0m \u001b[38;5;28;01mimport\u001b[39;00m \u001b[38;5;21;01mcv2\u001b[39;00m\n\u001b[0;32m---> 10\u001b[0m \u001b[38;5;28;01mfrom\u001b[39;00m \u001b[38;5;21;01m.\u001b[39;00m\u001b[38;5;21;01mengine\u001b[39;00m\u001b[38;5;21;01m.\u001b[39;00m\u001b[38;5;21;01mdefaultseng\u001b[39;00m \u001b[38;5;28;01mimport\u001b[39;00m DefaultPredictor\n\u001b[1;32m     11\u001b[0m \u001b[38;5;28;01mfrom\u001b[39;00m \u001b[38;5;21;01m.\u001b[39;00m\u001b[38;5;21;01mconfig\u001b[39;00m \u001b[38;5;28;01mimport\u001b[39;00m get_cfg\n\u001b[1;32m     12\u001b[0m \u001b[38;5;28;01mfrom\u001b[39;00m \u001b[38;5;21;01m.\u001b[39;00m\u001b[38;5;21;01mdata\u001b[39;00m \u001b[38;5;28;01mimport\u001b[39;00m MetadataCatalog\n",
      "File \u001b[0;32m~/venv/lib/python3.12/site-packages/pixellib/torchbackend/instance/engine/defaultseng.py:23\u001b[0m\n\u001b[1;32m     20\u001b[0m \u001b[38;5;28;01mfrom\u001b[39;00m \u001b[38;5;21;01momegaconf\u001b[39;00m \u001b[38;5;28;01mimport\u001b[39;00m OmegaConf\n\u001b[1;32m     21\u001b[0m \u001b[38;5;28;01mfrom\u001b[39;00m \u001b[38;5;21;01mtorch\u001b[39;00m\u001b[38;5;21;01m.\u001b[39;00m\u001b[38;5;21;01mnn\u001b[39;00m\u001b[38;5;21;01m.\u001b[39;00m\u001b[38;5;21;01mparallel\u001b[39;00m \u001b[38;5;28;01mimport\u001b[39;00m DistributedDataParallel\n\u001b[0;32m---> 23\u001b[0m \u001b[38;5;28;01mimport\u001b[39;00m \u001b[38;5;21;01mpixellib\u001b[39;00m\u001b[38;5;21;01m.\u001b[39;00m\u001b[38;5;21;01mtorchbackend\u001b[39;00m\u001b[38;5;21;01m.\u001b[39;00m\u001b[38;5;21;01minstance\u001b[39;00m\u001b[38;5;21;01m.\u001b[39;00m\u001b[38;5;21;01mdata\u001b[39;00m\u001b[38;5;21;01m.\u001b[39;00m\u001b[38;5;21;01mtransforms\u001b[39;00m \u001b[38;5;28;01mas\u001b[39;00m \u001b[38;5;21;01mT\u001b[39;00m\n\u001b[1;32m     24\u001b[0m \u001b[38;5;28;01mfrom\u001b[39;00m \u001b[38;5;21;01mpixellib\u001b[39;00m\u001b[38;5;21;01m.\u001b[39;00m\u001b[38;5;21;01mtorchbackend\u001b[39;00m\u001b[38;5;21;01m.\u001b[39;00m\u001b[38;5;21;01minstance\u001b[39;00m\u001b[38;5;21;01m.\u001b[39;00m\u001b[38;5;21;01mcheckpoint\u001b[39;00m\u001b[38;5;21;01m.\u001b[39;00m\u001b[38;5;21;01mdetection_checkpoint\u001b[39;00m \u001b[38;5;28;01mimport\u001b[39;00m DetectionCheckpointer\n\u001b[1;32m     25\u001b[0m \u001b[38;5;28;01mfrom\u001b[39;00m \u001b[38;5;21;01mpixellib\u001b[39;00m\u001b[38;5;21;01m.\u001b[39;00m\u001b[38;5;21;01mtorchbackend\u001b[39;00m\u001b[38;5;21;01m.\u001b[39;00m\u001b[38;5;21;01minstance\u001b[39;00m\u001b[38;5;21;01m.\u001b[39;00m\u001b[38;5;21;01mconfig\u001b[39;00m \u001b[38;5;28;01mimport\u001b[39;00m CfgNode\n",
      "File \u001b[0;32m~/venv/lib/python3.12/site-packages/pixellib/torchbackend/instance/data/__init__.py:4\u001b[0m\n\u001b[1;32m      1\u001b[0m \u001b[38;5;66;03m# Copyright (c) Facebook, Inc. and its affiliates.\u001b[39;00m\n\u001b[0;32m----> 4\u001b[0m \u001b[38;5;28;01mimport\u001b[39;00m \u001b[38;5;21;01mpixellib\u001b[39;00m\u001b[38;5;21;01m.\u001b[39;00m\u001b[38;5;21;01mtorchbackend\u001b[39;00m\u001b[38;5;21;01m.\u001b[39;00m\u001b[38;5;21;01minstance\u001b[39;00m\u001b[38;5;21;01m.\u001b[39;00m\u001b[38;5;21;01mdata\u001b[39;00m\u001b[38;5;21;01m.\u001b[39;00m\u001b[38;5;21;01mtransforms\u001b[39;00m  \u001b[38;5;66;03m# isort:skip\u001b[39;00m\n\u001b[1;32m      6\u001b[0m \u001b[38;5;28;01mfrom\u001b[39;00m \u001b[38;5;21;01m.\u001b[39;00m\u001b[38;5;21;01mbuild_data\u001b[39;00m \u001b[38;5;28;01mimport\u001b[39;00m (\n\u001b[1;32m      7\u001b[0m     build_batch_data_loader,\n\u001b[1;32m      8\u001b[0m     build_detection_test_loader,\n\u001b[0;32m   (...)\u001b[0m\n\u001b[1;32m     12\u001b[0m     print_instances_class_histogram,\n\u001b[1;32m     13\u001b[0m )\n\u001b[1;32m     14\u001b[0m \u001b[38;5;28;01mfrom\u001b[39;00m \u001b[38;5;21;01m.\u001b[39;00m\u001b[38;5;21;01mcatalogdata\u001b[39;00m \u001b[38;5;28;01mimport\u001b[39;00m DatasetCatalog, MetadataCatalog, Metadata\n",
      "File \u001b[0;32m~/venv/lib/python3.12/site-packages/pixellib/torchbackend/instance/data/transforms/__init__.py:6\u001b[0m\n\u001b[1;32m      4\u001b[0m \u001b[38;5;28;01mfrom\u001b[39;00m \u001b[38;5;21;01mfvcore\u001b[39;00m\u001b[38;5;21;01m.\u001b[39;00m\u001b[38;5;21;01mtransforms\u001b[39;00m\u001b[38;5;21;01m.\u001b[39;00m\u001b[38;5;21;01mtransform\u001b[39;00m \u001b[38;5;28;01mimport\u001b[39;00m Transform, TransformList  \u001b[38;5;66;03m# order them first\u001b[39;00m\n\u001b[1;32m      5\u001b[0m \u001b[38;5;28;01mfrom\u001b[39;00m \u001b[38;5;21;01mfvcore\u001b[39;00m\u001b[38;5;21;01m.\u001b[39;00m\u001b[38;5;21;01mtransforms\u001b[39;00m\u001b[38;5;21;01m.\u001b[39;00m\u001b[38;5;21;01mtransform\u001b[39;00m \u001b[38;5;28;01mimport\u001b[39;00m \u001b[38;5;241m*\u001b[39m\n\u001b[0;32m----> 6\u001b[0m \u001b[38;5;28;01mfrom\u001b[39;00m \u001b[38;5;21;01m.\u001b[39;00m\u001b[38;5;21;01mtransform\u001b[39;00m \u001b[38;5;28;01mimport\u001b[39;00m \u001b[38;5;241m*\u001b[39m\n\u001b[1;32m      7\u001b[0m \u001b[38;5;28;01mfrom\u001b[39;00m \u001b[38;5;21;01m.\u001b[39;00m\u001b[38;5;21;01maugmentation\u001b[39;00m \u001b[38;5;28;01mimport\u001b[39;00m \u001b[38;5;241m*\u001b[39m\n\u001b[1;32m      8\u001b[0m \u001b[38;5;28;01mfrom\u001b[39;00m \u001b[38;5;21;01m.\u001b[39;00m\u001b[38;5;21;01maugmentation_impl\u001b[39;00m \u001b[38;5;28;01mimport\u001b[39;00m \u001b[38;5;241m*\u001b[39m\n",
      "File \u001b[0;32m~/venv/lib/python3.12/site-packages/pixellib/torchbackend/instance/data/transforms/transform.py:36\u001b[0m\n\u001b[1;32m     25\u001b[0m     \u001b[38;5;28;01mpass\u001b[39;00m\n\u001b[1;32m     27\u001b[0m __all__ \u001b[38;5;241m=\u001b[39m [\n\u001b[1;32m     28\u001b[0m     \u001b[38;5;124m\"\u001b[39m\u001b[38;5;124mExtentTransform\u001b[39m\u001b[38;5;124m\"\u001b[39m,\n\u001b[1;32m     29\u001b[0m     \u001b[38;5;124m\"\u001b[39m\u001b[38;5;124mResizeTransform\u001b[39m\u001b[38;5;124m\"\u001b[39m,\n\u001b[0;32m   (...)\u001b[0m\n\u001b[1;32m     32\u001b[0m     \u001b[38;5;124m\"\u001b[39m\u001b[38;5;124mPILColorTransform\u001b[39m\u001b[38;5;124m\"\u001b[39m,\n\u001b[1;32m     33\u001b[0m ]\n\u001b[0;32m---> 36\u001b[0m \u001b[38;5;28;43;01mclass\u001b[39;49;00m\u001b[43m \u001b[49m\u001b[38;5;21;43;01mExtentTransform\u001b[39;49;00m\u001b[43m(\u001b[49m\u001b[43mTransform\u001b[49m\u001b[43m)\u001b[49m\u001b[43m:\u001b[49m\n\u001b[1;32m     37\u001b[0m \u001b[38;5;250;43m    \u001b[39;49m\u001b[38;5;124;43;03m\"\"\"\u001b[39;49;00m\n\u001b[1;32m     38\u001b[0m \u001b[38;5;124;43;03m    Extracts a subregion from the source image and scales it to the output size.\u001b[39;49;00m\n\u001b[1;32m     39\u001b[0m \n\u001b[0;32m   (...)\u001b[0m\n\u001b[1;32m     43\u001b[0m \u001b[38;5;124;43;03m    See: https://pillow.readthedocs.io/en/latest/PIL.html#PIL.ImageTransform.ExtentTransform\u001b[39;49;00m\n\u001b[1;32m     44\u001b[0m \u001b[38;5;124;43;03m    \"\"\"\u001b[39;49;00m\n\u001b[1;32m     46\u001b[0m \u001b[43m    \u001b[49m\u001b[38;5;28;43;01mdef\u001b[39;49;00m\u001b[43m \u001b[49m\u001b[38;5;21;43m__init__\u001b[39;49m\u001b[43m(\u001b[49m\u001b[38;5;28;43mself\u001b[39;49m\u001b[43m,\u001b[49m\u001b[43m \u001b[49m\u001b[43msrc_rect\u001b[49m\u001b[43m,\u001b[49m\u001b[43m \u001b[49m\u001b[43moutput_size\u001b[49m\u001b[43m,\u001b[49m\u001b[43m \u001b[49m\u001b[43minterp\u001b[49m\u001b[38;5;241;43m=\u001b[39;49m\u001b[43mImage\u001b[49m\u001b[38;5;241;43m.\u001b[39;49m\u001b[43mLINEAR\u001b[49m\u001b[43m,\u001b[49m\u001b[43m \u001b[49m\u001b[43mfill\u001b[49m\u001b[38;5;241;43m=\u001b[39;49m\u001b[38;5;241;43m0\u001b[39;49m\u001b[43m)\u001b[49m\u001b[43m:\u001b[49m\n",
      "File \u001b[0;32m~/venv/lib/python3.12/site-packages/pixellib/torchbackend/instance/data/transforms/transform.py:46\u001b[0m, in \u001b[0;36mExtentTransform\u001b[0;34m()\u001b[0m\n\u001b[1;32m     36\u001b[0m \u001b[38;5;28;01mclass\u001b[39;00m \u001b[38;5;21;01mExtentTransform\u001b[39;00m(Transform):\n\u001b[1;32m     37\u001b[0m \u001b[38;5;250m    \u001b[39m\u001b[38;5;124;03m\"\"\"\u001b[39;00m\n\u001b[1;32m     38\u001b[0m \u001b[38;5;124;03m    Extracts a subregion from the source image and scales it to the output size.\u001b[39;00m\n\u001b[1;32m     39\u001b[0m \n\u001b[0;32m   (...)\u001b[0m\n\u001b[1;32m     43\u001b[0m \u001b[38;5;124;03m    See: https://pillow.readthedocs.io/en/latest/PIL.html#PIL.ImageTransform.ExtentTransform\u001b[39;00m\n\u001b[1;32m     44\u001b[0m \u001b[38;5;124;03m    \"\"\"\u001b[39;00m\n\u001b[0;32m---> 46\u001b[0m     \u001b[38;5;28;01mdef\u001b[39;00m \u001b[38;5;21m__init__\u001b[39m(\u001b[38;5;28mself\u001b[39m, src_rect, output_size, interp\u001b[38;5;241m=\u001b[39m\u001b[43mImage\u001b[49m\u001b[38;5;241;43m.\u001b[39;49m\u001b[43mLINEAR\u001b[49m, fill\u001b[38;5;241m=\u001b[39m\u001b[38;5;241m0\u001b[39m):\n\u001b[1;32m     47\u001b[0m \u001b[38;5;250m        \u001b[39m\u001b[38;5;124;03m\"\"\"\u001b[39;00m\n\u001b[1;32m     48\u001b[0m \u001b[38;5;124;03m        Args:\u001b[39;00m\n\u001b[1;32m     49\u001b[0m \u001b[38;5;124;03m            src_rect (x0, y0, x1, y1): src coordinates\u001b[39;00m\n\u001b[0;32m   (...)\u001b[0m\n\u001b[1;32m     52\u001b[0m \u001b[38;5;124;03m            fill: Fill color used when src_rect extends outside image\u001b[39;00m\n\u001b[1;32m     53\u001b[0m \u001b[38;5;124;03m        \"\"\"\u001b[39;00m\n\u001b[1;32m     54\u001b[0m         \u001b[38;5;28msuper\u001b[39m()\u001b[38;5;241m.\u001b[39m\u001b[38;5;21m__init__\u001b[39m()\n",
      "\u001b[0;31mAttributeError\u001b[0m: module 'PIL.Image' has no attribute 'LINEAR'"
     ]
    }
   ],
   "source": [
    "\n",
    "import pixellib\n",
    "import PIL\n",
    "print(PIL.__version__)\n",
    "\n",
    "from pixellib.torchbackend.instance import instanceSegmentation\n",
    "\n",
    "ins = instanceSegmentation()\n",
    "ins.load_model(\"pointrend_resnet50.pkl\")\n",
    "ins.segmentImage(\"/home/acy/venv/source/prj_poster/busy_street.jpg\", show_bboxes=True, output_image_name=\"output_image.jpg\")\n",
    "\n"
   ]
  },
  {
   "cell_type": "code",
   "execution_count": 36,
   "metadata": {},
   "outputs": [
    {
     "ename": "ImportError",
     "evalue": "cannot import name 'BatchNormalization' from 'tensorflow.python.keras.layers' (/home/acy/venv/lib/python3.12/site-packages/tensorflow/python/keras/layers/__init__.py)",
     "output_type": "error",
     "traceback": [
      "\u001b[0;31m---------------------------------------------------------------------------\u001b[0m",
      "\u001b[0;31mImportError\u001b[0m                               Traceback (most recent call last)",
      "Cell \u001b[0;32mIn[36], line 4\u001b[0m\n\u001b[1;32m      1\u001b[0m \u001b[38;5;66;03m# 필요한 라이브러리 임포트\u001b[39;00m\n\u001b[1;32m      3\u001b[0m \u001b[38;5;28;01mfrom\u001b[39;00m \u001b[38;5;21;01mpixellib\u001b[39;00m\u001b[38;5;21;01m.\u001b[39;00m\u001b[38;5;21;01msemantic\u001b[39;00m \u001b[38;5;28;01mimport\u001b[39;00m semantic_segmentation\n\u001b[0;32m----> 4\u001b[0m \u001b[38;5;28;01mfrom\u001b[39;00m \u001b[38;5;21;01mtensorflow\u001b[39;00m\u001b[38;5;21;01m.\u001b[39;00m\u001b[38;5;21;01mpython\u001b[39;00m\u001b[38;5;21;01m.\u001b[39;00m\u001b[38;5;21;01mkeras\u001b[39;00m\u001b[38;5;21;01m.\u001b[39;00m\u001b[38;5;21;01mlayers\u001b[39;00m \u001b[38;5;28;01mimport\u001b[39;00m BatchNormalization, Conv2D\n\u001b[1;32m      5\u001b[0m \u001b[38;5;28;01mimport\u001b[39;00m \u001b[38;5;21;01mcv2\u001b[39;00m \u001b[38;5;28;01mas\u001b[39;00m \u001b[38;5;21;01mcv\u001b[39;00m\n\u001b[1;32m      6\u001b[0m \u001b[38;5;28;01mimport\u001b[39;00m \u001b[38;5;21;01mtensorflow\u001b[39;00m \u001b[38;5;28;01mas\u001b[39;00m \u001b[38;5;21;01mtf\u001b[39;00m\n",
      "\u001b[0;31mImportError\u001b[0m: cannot import name 'BatchNormalization' from 'tensorflow.python.keras.layers' (/home/acy/venv/lib/python3.12/site-packages/tensorflow/python/keras/layers/__init__.py)"
     ]
    }
   ],
   "source": [
    "# 필요한 라이브러리 임포트\n",
    "\n",
    "from pixellib.semantic import semantic_segmentation\n",
    "from tensorflow.python.keras.layers import BatchNormalization, Conv2D\n",
    "import cv2 as cv\n",
    "import tensorflow as tf\n",
    "\n",
    "class VersionAwareLayers:\n",
    "    \"\"\"Utility to be used internally to access layers in a V1/V2-aware fashion.\"\"\"\n",
    "\n",
    "    def __getattr__(self, name):\n",
    "        if name in dir(tf.keras.layers):\n",
    "            return getattr(tf.keras.layers, name)\n",
    "        raise AttributeError(f\"module '{self.__module__}' has no attribute '{name}'\")\n",
    "\n",
    "layers = VersionAwareLayers()\n",
    "batch_norm = layers.BatchNormalization()\n",
    "# Semantic segmentation 객체 생성\n",
    "seg = semantic_segmentation()\n",
    "\n",
    "# 모델 로드 (사전에 다운로드한 모델 파일의 경로를 입력)\n",
    "seg.load_ade20k_model('deeplabv3_xception65_ade20k.h5')\n",
    "\n",
    "# 이미지 파일 경로 설정\n",
    "img_fname = 'busy_street.jpg'\n",
    "\n",
    "# 세그멘테이션 수행 (배경을 분리하여 이미지 저장)\n",
    "seg.segmentAsAde20k(img_fname, output_image_name='image_segmented.jpg')\n",
    "\n",
    "# 세그멘테이션 정보 및 결과 이미지 가져오기\n",
    "info, img_segmented = seg.segmentAsAde20k(img_fname)\n",
    "info_overlay, img_segmented_overlay = seg.segmentAsAde20k(img_fname, overlay=True)\n",
    "\n",
    "# 원본 이미지 및 세그멘테이션 결과를 화면에 표시\n",
    "cv.imshow('Original Image', cv.imread(img_fname))\n",
    "cv.imshow('Segmented Image', img_segmented)\n",
    "cv.imshow('Overlay Image', img_segmented_overlay)\n",
    "\n",
    "# 키 입력 대기 후 창 닫기\n",
    "cv.waitKey(0)\n",
    "cv.destroyAllWindows()\n"
   ]
  },
  {
   "cell_type": "code",
   "execution_count": null,
   "metadata": {},
   "outputs": [],
   "source": []
  }
 ],
 "metadata": {
  "kernelspec": {
   "display_name": "Python 3 (ipykernel)",
   "language": "python",
   "name": "python3"
  },
  "language_info": {
   "codemirror_mode": {
    "name": "ipython",
    "version": 3
   },
   "file_extension": ".py",
   "mimetype": "text/x-python",
   "name": "python",
   "nbconvert_exporter": "python",
   "pygments_lexer": "ipython3",
   "version": "3.12.3"
  }
 },
 "nbformat": 4,
 "nbformat_minor": 2
}
