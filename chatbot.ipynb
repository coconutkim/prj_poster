{
 "cells": [
  {
   "cell_type": "code",
   "execution_count": 2,
   "metadata": {},
   "outputs": [
    {
     "name": "stderr",
     "output_type": "stream",
     "text": [
      "C:\\Users\\acy\\AppData\\Roaming\\Python\\Python311\\site-packages\\tqdm\\auto.py:21: TqdmWarning: IProgress not found. Please update jupyter and ipywidgets. See https://ipywidgets.readthedocs.io/en/stable/user_install.html\n",
      "  from .autonotebook import tqdm as notebook_tqdm\n"
     ]
    },
    {
     "name": "stdout",
     "output_type": "stream",
     "text": [
      "Running on local URL:  http://127.0.0.1:7860\n",
      "\n",
      "Could not create share link. Missing file: c:\\ProgramData\\anaconda3\\envs\\cvmaster\\Lib\\site-packages\\gradio\\frpc_windows_amd64_v0.2. \n",
      "\n",
      "Please check your internet connection. This can happen if your antivirus software blocks the download of this file. You can install manually by following these steps: \n",
      "\n",
      "1. Download this file: https://cdn-media.huggingface.co/frpc-gradio-0.2/frpc_windows_amd64.exe\n",
      "2. Rename the downloaded file to: frpc_windows_amd64_v0.2\n",
      "3. Move the file to this location: c:\\ProgramData\\anaconda3\\envs\\cvmaster\\Lib\\site-packages\\gradio\n"
     ]
    },
    {
     "data": {
      "text/html": [
       "<div><iframe src=\"http://127.0.0.1:7860/\" width=\"100%\" height=\"500\" allow=\"autoplay; camera; microphone; clipboard-read; clipboard-write;\" frameborder=\"0\" allowfullscreen></iframe></div>"
      ],
      "text/plain": [
       "<IPython.core.display.HTML object>"
      ]
     },
     "metadata": {},
     "output_type": "display_data"
    }
   ],
   "source": [
    "# https://af05d0eb1988ebed9c.gradio.live/\n",
    "\n",
    "\n",
    "import random\n",
    "import gradio as gr\n",
    "\n",
    "\n",
    "def random_response(message, history):\n",
    "    products = [\n",
    "        \"적금 상품\",\n",
    "        \"대출 상품\",\n",
    "        \"신용 카드\",\n",
    "        \"예금 상품\",\n",
    "        \"주택청약 통장\"\n",
    "    ]\n",
    "    greetings = [\n",
    "        \"고객님 안녕하세요.\",\n",
    "        \"고객님 어떤 은행 상품을 안내해드릴까요?\"\n",
    "    ]\n",
    "\n",
    "    if \"상품\" in message:\n",
    "        product = random.choice(products)\n",
    "        response = f\"{product}에 대해 안내해드리겠습니다. 관심 있으신가요?\"\n",
    "    else:\n",
    "        response = random.choice(greetings)\n",
    "\n",
    "    yield response\n",
    "\n",
    "\n",
    "demo = gr.ChatInterface(random_response)\n",
    "\n",
    "if __name__ == \"__main__\":\n",
    "    demo.launch(share=True)"
   ]
  }
 ],
 "metadata": {
  "kernelspec": {
   "display_name": "cvmaster",
   "language": "python",
   "name": "python3"
  },
  "language_info": {
   "codemirror_mode": {
    "name": "ipython",
    "version": 3
   },
   "file_extension": ".py",
   "mimetype": "text/x-python",
   "name": "python",
   "nbconvert_exporter": "python",
   "pygments_lexer": "ipython3",
   "version": "3.11.9"
  }
 },
 "nbformat": 4,
 "nbformat_minor": 2
}
