{
 "cells": [
  {
   "cell_type": "code",
   "execution_count": null,
   "metadata": {},
   "outputs": [],
   "source": [
    "import cv2\n",
    "import pytesseract\n",
    "import numpy as np\n",
    "\n",
    "Tesseract 경로 설정 (시스템에 맞게 경로 수정)\n",
    "pytesseract.pytesseract.tesseract_cmd = r'C:\\Program Files\\Tesseract-OCR\\tesseract.exe'\n",
    "\n",
    "# 이미지 읽기\n",
    "image = cv2.imread('your_image_path.jpg')\n",
    "\n",
    "# 1. 그레이스케일 변환\n",
    "gray_image = cv2.cvtColor(image, cv2.COLOR_BGR2GRAY)\n",
    "\n",
    "# 2. 가우시안 블러 적용\n",
    "blurred_image = cv2.GaussianBlur(gray_image, (5, 5), 0)\n",
    "\n",
    "# 3. 이진화 (Adaptive Thresholding을 사용하여 텍스트 강조)\n",
    "binary_image = cv2.adaptiveThreshold(blurred_image, 255, cv2.ADAPTIVE_THRESH_GAUSSIAN_C, cv2.THRESH_BINARY, 11, 2)\n",
    "\n",
    "# 4. 대비 향상 (CLAHE 사용)\n",
    "clahe = cv2.createCLAHE(clipLimit=2.0, tileGridSize=(8, 8))\n",
    "enhanced_image = clahe.apply(binary_image)\n",
    "\n",
    "# 5. 엣지 검출 (Canny Edge Detection)\n",
    "edges = cv2.Canny(enhanced_image, 100, 200)\n",
    "\n",
    "# 6. 텍스트 영역 검출을 위한 외곽선 찾기\n",
    "contours, _ = cv2.findContours(edges, cv2.RETR_EXTERNAL, cv2.CHAIN_APPROX_SIMPLE)\n",
    "\n",
    "# 텍스트 검출한 영역을 표시 (Bounding Box)\n",
    "for contour in contours:\n",
    "    # 외곽선으로부터 경계 상자를 계산\n",
    "    x, y, w, h = cv2.boundingRect(contour)\n",
    "    aspect_ratio = w / float(h)\n",
    "    \n",
    "    # 텍스트로 추정되는 영역 필터링 (너무 좁거나 넓은 영역 제외)\n",
    "    if 0.5 < aspect_ratio < 5 and w > 30 and h > 15:\n",
    "        # 검출한 텍스트 영역에 사각형 그리기\n",
    "        cv2.rectangle(image, (x, y), (x + w, y + h), (0, 255, 0), 2)\n",
    "        \n",
    "        # 7. 검출한 영역을 잘라 OCR 수행\n",
    "        roi = enhanced_image[y:y + h, x:x + w]\n",
    "        text = pytesseract.image_to_string(roi, lang='eng')\n",
    "        print(f\"Detected text: {text.strip()}\")\n",
    "        \n",
    "# 결과 이미지 출력\n",
    "cv2.imshow(\"Text Detection\", image)\n",
    "cv2.waitKey(0)\n",
    "cv2.destroyAllWindows()\n"
   ]
  }
 ],
 "metadata": {
  "language_info": {
   "name": "python"
  }
 },
 "nbformat": 4,
 "nbformat_minor": 2
}
