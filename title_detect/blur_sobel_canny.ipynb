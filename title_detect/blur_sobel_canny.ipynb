{
 "cells": [
  {
   "cell_type": "code",
   "execution_count": null,
   "metadata": {},
   "outputs": [],
   "source": [
    "import cv2\n",
    "import numpy as np\n",
    "\n",
    "# 이미지 읽기\n",
    "image = cv2.imread('shark.jpg')\n",
    "\n",
    "# 이미지 크기 조정 (2.5배 확대)\n",
    "width = int(image.shape[1] * 1)\n",
    "height = int(image.shape[0] * 1)\n",
    "resized_image = cv2.resize(image, (width, height))\n",
    "\n",
    "# 그레이스케일 변환\n",
    "gray = cv2.cvtColor(resized_image, cv2.COLOR_BGR2GRAY)\n",
    "\n",
    "# 가우시안 블러\n",
    "blurred = cv2.GaussianBlur(gray, (5, 5), 0)\n",
    "\n",
    "# 소벨 엣지 검출\n",
    "sobel_x = cv2.Sobel(blurred, cv2.CV_64F, 1, 0, ksize=1)  # x방향 엣지 검출\n",
    "sobel_y = cv2.Sobel(blurred, cv2.CV_64F, 0, 1, ksize=1)  # y방향 엣지 검출\n",
    "sobel_combined = cv2.sqrt(cv2.addWeighted(sobel_x**2, 0.5, sobel_y**2, 0.5, 0))\n",
    "\n",
    "# 소벨 결과를 8비트로 변환\n",
    "sobel_combined = cv2.convertScaleAbs(sobel_combined)\n",
    "\n",
    "# 캐니 엣지 검출\n",
    "canny_edges = cv2.Canny(gray, threshold1=100, threshold2=300)\n",
    "# threshold1: 30 ~ 100\n",
    "# threshold2: 100 ~ 300\n",
    "# 그레이스케일 이미지에서 픽셀 값은 0부터 255까지 분포하므로,\n",
    "# **threshold1**과 **threshold2**의 값은 일반적으로 0에서 255 사이로 설정됩니다.\n",
    "\n",
    "# 소벨과 캐니 엣지 결합\n",
    "combined_edges = cv2.bitwise_or(sobel_combined, canny_edges)\n",
    "\n",
    "cv2.imwrite(\"./title_detect_img/combined_edges.jpg\", combined_edges)\n",
    "\n",
    "# 결과를 보여줌\n",
    "cv2.imshow(\"Combined Edges\", combined_edges)\n",
    "cv2.waitKey(0)\n",
    "cv2.destroyAllWindows()"
   ]
  }
 ],
 "metadata": {
  "language_info": {
   "name": "python"
  }
 },
 "nbformat": 4,
 "nbformat_minor": 2
}
