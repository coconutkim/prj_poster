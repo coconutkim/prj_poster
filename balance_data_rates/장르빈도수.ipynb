{
 "cells": [
  {
   "cell_type": "markdown",
   "metadata": {},
   "source": [
    "# 폴더에 있는 이미지 장르의 빈도수 세기"
   ]
  },
  {
   "cell_type": "code",
   "execution_count": 12,
   "metadata": {},
   "outputs": [],
   "source": [
    "import os\n",
    "from collections import Counter\n",
    "\n",
    "# genre_mapping은 기존에 제공된 딕셔너리와 동일\n",
    "genre_mapping = {\n",
    "    \"드라마\": 1 << 43, \"첩보\": 1 << 42, \"옴니버스\": 1 << 41, \"뮤직\": 1 << 40,\n",
    "    \"동성애\": 1 << 39, \"로드무비\": 1 << 38, \"아동\": 1 << 37, \"하이틴(고교)\": 1 << 36,\n",
    "    \"전기\": 1 << 35, \"청춘영화\": 1 << 34, \"재난\": 1 << 33, \"문예\": 1 << 32,\n",
    "    \"연쇄극\": 1 << 31, \"신파\": 1 << 30, \"활극\": 1 << 29, \"반공/분단\": 1 << 28,\n",
    "    \"군사\": 1 << 27, \"계몽\": 1 << 26, \"사회물(경향)\": 1 << 25, \"스포츠\": 1 << 24,\n",
    "    \"합작(번안물)\": 1 << 23, \"종교\": 1 << 22, \"무협\": 1 << 21, \"미스터리\": 1 << 20,\n",
    "    \"SF\": 1 << 19, \"코메디\": 1 << 18, \"느와르\": 1 << 17, \"액션\": 1 << 16,\n",
    "    \"범죄\": 1 << 15, \"어드벤처\": 1 << 14, \"가족\": 1 << 13, \"에로\": 1 << 12,\n",
    "    \"멜로/로맨스\": 1 << 11, \"멜로드라마\": 1 << 11, \"공포\": 1 << 10, \"뮤지컬\": 1 << 9,\n",
    "    \"시대극/사극\": 1 << 8, \"실험\": 1 << 7, \"스릴러\": 1 << 5, \"서부\": 1 << 4,\n",
    "    \"전쟁\": 1 << 3, \"갱스터\": 1 << 2, \"판타지\": 1 << 1, \"해양액션\": 1 << 0\n",
    "}\n",
    "\n",
    "# 장르 빈도수를 저장하기 위한 Counter\n",
    "genre_counter = Counter()\n",
    "\n",
    "# 파일명이 저장된 폴더 경로\n",
    "image_folder = r'G:\\내 드라이브\\project_poster\\x_train - 복사본'\n",
    "\n",
    "# 장르별 빈도수를 계산하는 함수\n",
    "def count_genres_from_files(image_folder):\n",
    "    # 폴더 내 파일을 순회하며\n",
    "    for filename in os.listdir(image_folder):\n",
    "        if filename.endswith('.jpg'):\n",
    "            # 각 파일명에서 비트 플래그 추출\n",
    "            movieNum = int(filename.split('_')[1].split('.')[0])\n",
    "            \n",
    "            # genre_mapping을 활용하여 장르 빈도수 카운트\n",
    "            for genre, bitmask in genre_mapping.items():\n",
    "                if movieNum & bitmask:\n",
    "                    genre_counter[genre] += 1\n",
    "\n",
    "# 장르 빈도수 세기 실행\n",
    "count_genres_from_files(image_folder)\n",
    "genre_counts = {}\n",
    "\n",
    "# 결과 출력\n",
    "# print(\"장르별 빈도수:\")\n",
    "for genre, count in sorted(genre_counter.items(),\n",
    "                           key=lambda x:x[1],\n",
    "                           reverse=True):\n",
    "    # print(f\"\\\"{genre}\\\": {count},\")\n",
    "    genre_counts[genre] = count"
   ]
  },
  {
   "cell_type": "code",
   "execution_count": 13,
   "metadata": {},
   "outputs": [
    {
     "data": {
      "text/plain": [
       "{'드라마': 4236,\n",
       " '코메디': 2467,\n",
       " '멜로/로맨스': 1199,\n",
       " '멜로드라마': 1199,\n",
       " '액션': 1025,\n",
       " '스릴러': 899,\n",
       " '판타지': 576,\n",
       " '가족': 534,\n",
       " '어드벤처': 506,\n",
       " '범죄': 480,\n",
       " '공포': 414,\n",
       " '미스터리': 410,\n",
       " 'SF': 363,\n",
       " '에로': 226,\n",
       " '시대극/사극': 109,\n",
       " '아동': 94,\n",
       " '옴니버스': 94,\n",
       " '전쟁': 91,\n",
       " '뮤직': 84,\n",
       " '뮤지컬': 80,\n",
       " '스포츠': 70,\n",
       " '청춘영화': 52,\n",
       " '느와르': 48,\n",
       " '동성애': 34,\n",
       " '로드무비': 28,\n",
       " '전기': 25,\n",
       " '하이틴(고교)': 25,\n",
       " '사회물(경향)': 22,\n",
       " '무협': 19,\n",
       " '실험': 17,\n",
       " '재난': 15,\n",
       " '종교': 12,\n",
       " '서부': 8,\n",
       " '갱스터': 8,\n",
       " '반공/분단': 7,\n",
       " '첩보': 6,\n",
       " '활극': 5,\n",
       " '계몽': 3,\n",
       " '해양액션': 1,\n",
       " '군사': 1,\n",
       " '문예': 1,\n",
       " '신파': 1}"
      ]
     },
     "execution_count": 13,
     "metadata": {},
     "output_type": "execute_result"
    }
   ],
   "source": [
    "genre_counts"
   ]
  },
  {
   "cell_type": "markdown",
   "metadata": {},
   "source": [
    "# 비슷한 장르끼리 묶기"
   ]
  },
  {
   "cell_type": "code",
   "execution_count": 14,
   "metadata": {},
   "outputs": [
    {
     "name": "stdout",
     "output_type": "stream",
     "text": [
      "42\n"
     ]
    }
   ],
   "source": [
    "resized_genre_mapping = {\n",
    "    \"드라마\": [\"드라마\", \"청춘영화\", \"사회물(경향)\",'가족', '하이틴(고교)'],\n",
    "    \"코메디\": [\"코메디\"],\n",
    "    '로맨스': ['멜로/로맨스', '멜로드라마', '에로','동성애'],\n",
    "    \"액션\": [\"액션\", \"재난\", \"범죄\", \"느와르\",\n",
    "           '활극','첩보','해양액션', \"서부\", \"갱스터\", '무협',\n",
    "           \"전쟁\", \"군사\",'반공/분단'],\n",
    "    \"SF/판타지\": [\"SF\", \"판타지\", \"어드벤처\"],\n",
    "    \"공포\": [\"공포\", \"스릴러\", \"미스터리\"],\n",
    "    \"기타\": [\"옴니버스\", \"종교\", \"실험\",'스포츠', '계몽', '문예', '신파', \"뮤지컬\",\n",
    "           \"뮤직\",'시대극/사극','전기', \"아동\",'로드무비']\n",
    "}\n",
    "\n",
    "list1=[]\n",
    "\n",
    "for k, v in resized_genre_mapping.items():\n",
    "    for i in v:\n",
    "        # print(i)\n",
    "        list1.append(i)\n",
    "        \n",
    "print(len(list1))"
   ]
  },
  {
   "cell_type": "markdown",
   "metadata": {},
   "source": [
    "# 묶음 장르의 빈도수 세기"
   ]
  },
  {
   "cell_type": "code",
   "execution_count": 15,
   "metadata": {},
   "outputs": [
    {
     "name": "stdout",
     "output_type": "stream",
     "text": [
      "\"드라마\": 4869,\n",
      "\"로맨스\": 2658,\n",
      "\"코메디\": 2467,\n",
      "\"공포\": 1723,\n",
      "\"액션\": 1714,\n",
      "\"SF/판타지\": 1445,\n",
      "\"기타\": 618,\n"
     ]
    }
   ],
   "source": [
    "# 묶음 장르 빈도수 계산\n",
    "final_counts = {}\n",
    "\n",
    "# 각 묶음 장르에 대한 최종 빈도수 계산\n",
    "for group, genres in resized_genre_mapping.items():\n",
    "    total_count = sum(genre_counts.get(genre, 0) for genre in genres)  # 해당 장르의 빈도수를 합산\n",
    "    final_counts[group] = total_count\n",
    "\n",
    "# 최종 결과 출력\n",
    "# print(\"묶음 장르 총합 빈도수:\")\n",
    "for group, count in sorted(final_counts.items(), key=lambda x: x[1], reverse=True):\n",
    "    print(f\"\\\"{group}\\\": {count},\")"
   ]
  },
  {
   "cell_type": "markdown",
   "metadata": {},
   "source": [
    "# 묶음 장르의 빈도수 시각화"
   ]
  },
  {
   "cell_type": "code",
   "execution_count": 23,
   "metadata": {},
   "outputs": [
    {
     "data": {
      "image/png": "[encoded data removed]",
      "text/plain": [
       "<Figure size 1200x800 with 1 Axes>"
      ]
     },
     "metadata": {},
     "output_type": "display_data"
    }
   ],
   "source": [
    "import matplotlib.pyplot as plt\n",
    "import matplotlib.font_manager as fm\n",
    "\n",
    "# 폰트 설정\n",
    "font_path = r'C:\\ex\\prj_poster\\MALGUN.TTF'  # 사용자 정의 폰트 경로\n",
    "font_name = fm.FontProperties(fname=font_path).get_name()\n",
    "\n",
    "# 장르와 빈도수 리스트로 변환\n",
    "genres2 = list(final_counts.keys())\n",
    "counts2 = list(final_counts.values())\n",
    "\n",
    "# 빈도수 비율 계산\n",
    "total_count = sum(counts2)\n",
    "ratios2 = [(count / total_count) * 100 for count in counts2]  # 비율(%)\n",
    "\n",
    "# 막대그래프 생성\n",
    "plt.figure(figsize=(12, 8))  # 그래프 크기 설정\n",
    "plt.rc('font', family=font_name)  # 사용자 정의 폰트 적용\n",
    "plt.bar(genres2, counts2, color='skyblue', label='빈도수')  # 세로 막대 그래프\n",
    "\n",
    "# 빈도수 비율을 그래프에 추가\n",
    "for i in range(len(genres2)):\n",
    "    plt.text(i, counts2[i] + 10, f'{ratios2[i]:.1f}%', ha='center')  # 비율 표시\n",
    "\n",
    "# 라벨 및 제목 설정\n",
    "plt.title('장르별 빈도수 및 비율')\n",
    "# plt.ylabel('빈도수')\n",
    "# plt.xlabel('장르')\n",
    "plt.tight_layout()  # 레이아웃 자동 조정\n",
    "plt.legend()  # 범례 추가\n",
    "plt.show()  # 그래프 출력\n"
   ]
  }
 ],
 "metadata": {
  "kernelspec": {
   "display_name": "gputestfinal1",
   "language": "python",
   "name": "python3"
  },
  "language_info": {
   "codemirror_mode": {
    "name": "ipython",
    "version": 3
   },
   "file_extension": ".py",
   "mimetype": "text/x-python",
   "name": "python",
   "nbconvert_exporter": "python",
   "pygments_lexer": "ipython3",
   "version": "3.7.1"
  }
 },
 "nbformat": 4,
 "nbformat_minor": 2
}
