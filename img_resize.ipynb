{
 "cells": [
  {
   "cell_type": "code",
   "execution_count": 2,
   "metadata": {},
   "outputs": [
    {
     "name": "stdout",
     "output_type": "stream",
     "text": [
      "이미지가 성공적으로 리사이즈되었습니다.\n"
     ]
    }
   ],
   "source": [
    "# image resizing\n",
    "# 포스터마다 가로 세로 비율이 다르다\n",
    "# 가로 세로 비율을 유지하며 크기를 조절하고 겉에 패딩을 추가한다\n",
    "\n",
    "from PIL import Image\n",
    "import os\n",
    "\n",
    "def resize_with_padding(image_path, target_size):\n",
    "    img = Image.open(image_path)\n",
    "    # img.thumbnail(target_size, Image.ANTIALIAS)  # 비율 유지 리사이즈\n",
    "    # AttributeError: module 'PIL.Image' has no attribute 'ANTIALIAS'\n",
    "    img.thumbnail(target_size, Image.LANCZOS)  # 비율 유지 리사이즈\n",
    "\n",
    "    # 배경색 지정 (예: 흰색)\n",
    "    new_img = Image.new(\"RGB\", target_size, (0,0,0))\n",
    "    \n",
    "    # 위치 계산\n",
    "    img_x = (target_size[0] - img.size[0]) // 2\n",
    "    img_y = (target_size[1] - img.size[1]) // 2\n",
    "    new_img.paste(img, (img_x, img_y))\n",
    "    \n",
    "    return new_img\n",
    "\n",
    "input_dir = r'G:\\내 드라이브\\project_poster\\posters3\\블랙폰_8796093022208.jpg'\n",
    "output_dir = r'C:\\ex\\project_poster\\img_preprocessed'\n",
    "# new_size = (224, 224)\n",
    "new_size = (500,500)\n",
    "\n",
    "os.makedirs(output_dir, exist_ok=True)\n",
    "\n",
    "resized_img = resize_with_padding(input_dir, new_size)\n",
    "resized_img.save(os.path.join(output_dir, 'resized_블랙폰_8796093022208.jpg'))\n",
    "\n",
    "print(\"이미지가 성공적으로 리사이즈되었습니다.\")"
   ]
  },
  {
   "cell_type": "code",
   "execution_count": 4,
   "metadata": {},
   "outputs": [
    {
     "name": "stdout",
     "output_type": "stream",
     "text": [
      "모든 이미지가 성공적으로 리사이즈되었습니다.\n"
     ]
    }
   ],
   "source": [
    "from PIL import Image\n",
    "import os\n",
    "\n",
    "def resize_with_padding(image_path, target_size):\n",
    "    img = Image.open(image_path)\n",
    "    img.thumbnail(target_size, Image.LANCZOS)  # 비율 유지 리사이즈\n",
    "\n",
    "    # 배경색 지정 (예: 검은색)\n",
    "    new_img = Image.new(\"RGB\", target_size, (0, 0, 0))\n",
    "    \n",
    "    # 위치 계산\n",
    "    img_x = (target_size[0] - img.size[0]) // 2\n",
    "    img_y = (target_size[1] - img.size[1]) // 2\n",
    "    new_img.paste(img, (img_x, img_y))\n",
    "    \n",
    "    return new_img\n",
    "\n",
    "input_dir = r'G:\\내 드라이브\\project_poster\\posters3'\n",
    "output_dir = r'C:\\ex\\project_poster\\preprocessed'\n",
    "new_size = (500, 500)\n",
    "\n",
    "os.makedirs(output_dir, exist_ok=True)\n",
    "\n",
    "# 입력 디렉토리의 모든 파일에 대해 반복\n",
    "for filename in os.listdir(input_dir):\n",
    "    if filename.lower().endswith(('.png', '.jpg', '.jpeg')):  # 이미지 파일 확장자 확인\n",
    "        input_path = os.path.join(input_dir, filename)\n",
    "        resized_img = resize_with_padding(input_path, new_size)\n",
    "        resized_img.save(os.path.join(output_dir, f'resized_{filename}'))\n",
    "\n",
    "print(\"모든 이미지가 성공적으로 리사이즈되었습니다.\")\n"
   ]
  }
 ],
 "metadata": {
  "kernelspec": {
   "display_name": "cvmaster",
   "language": "python",
   "name": "python3"
  },
  "language_info": {
   "codemirror_mode": {
    "name": "ipython",
    "version": 3
   },
   "file_extension": ".py",
   "mimetype": "text/x-python",
   "name": "python",
   "nbconvert_exporter": "python",
   "pygments_lexer": "ipython3",
   "version": "3.11.9"
  }
 },
 "nbformat": 4,
 "nbformat_minor": 2
}
